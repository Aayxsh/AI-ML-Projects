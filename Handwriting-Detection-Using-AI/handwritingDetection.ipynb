{
 "cells": [
  {
   "cell_type": "code",
   "execution_count": 2,
   "metadata": {},
   "outputs": [
    {
     "name": "stdout",
     "output_type": "stream",
     "text": [
      "Epoch 1/3\n",
      "1875/1875 [==============================] - 5s 2ms/step - loss: 0.2651 - accuracy: 0.9224\n",
      "Epoch 2/3\n",
      "1875/1875 [==============================] - 4s 2ms/step - loss: 0.1088 - accuracy: 0.9672\n",
      "Epoch 3/3\n",
      "1875/1875 [==============================] - 5s 3ms/step - loss: 0.0746 - accuracy: 0.9763\n",
      "313/313 [==============================] - 1s 2ms/step - loss: 0.1110 - accuracy: 0.9655\n",
      "0.965499997138977\n",
      "0.11104591935873032\n"
     ]
    },
    {
     "name": "stderr",
     "output_type": "stream",
     "text": [
      "WARNING:absl:Found untraced functions such as _update_step_xla while saving (showing 1 of 1). These functions will not be directly callable after loading.\n"
     ]
    },
    {
     "name": "stdout",
     "output_type": "stream",
     "text": [
      "INFO:tensorflow:Assets written to: digits.model\\assets\n"
     ]
    },
    {
     "name": "stderr",
     "output_type": "stream",
     "text": [
      "INFO:tensorflow:Assets written to: digits.model\\assets\n"
     ]
    },
    {
     "ename": "TypeError",
     "evalue": "'NoneType' object is not subscriptable",
     "output_type": "error",
     "traceback": [
      "\u001b[1;31m---------------------------------------------------------------------------\u001b[0m",
      "\u001b[1;31mTypeError\u001b[0m                                 Traceback (most recent call last)",
      "Cell \u001b[1;32mIn[2], line 30\u001b[0m\n\u001b[0;32m     26\u001b[0m model\u001b[39m.\u001b[39msave(\u001b[39m'\u001b[39m\u001b[39mdigits.model\u001b[39m\u001b[39m'\u001b[39m)\n\u001b[0;32m     29\u001b[0m \u001b[39mfor\u001b[39;00m x \u001b[39min\u001b[39;00m \u001b[39mrange\u001b[39m(\u001b[39m0\u001b[39m,\u001b[39m10\u001b[39m):\n\u001b[1;32m---> 30\u001b[0m     img \u001b[39m=\u001b[39m cv\u001b[39m.\u001b[39;49mimread(\u001b[39mf\u001b[39;49m\u001b[39m'\u001b[39;49m\u001b[39m{\u001b[39;49;00mx\u001b[39m}\u001b[39;49;00m\u001b[39m.png\u001b[39;49m\u001b[39m'\u001b[39;49m)[:,:,\u001b[39m0\u001b[39;49m]\n\u001b[0;32m     31\u001b[0m     img\u001b[39m=\u001b[39mnp\u001b[39m.\u001b[39minvert(np\u001b[39m.\u001b[39marray[img])\n\u001b[0;32m     32\u001b[0m     prediction \u001b[39m=\u001b[39m model\u001b[39m.\u001b[39mpredict(img)\n",
      "\u001b[1;31mTypeError\u001b[0m: 'NoneType' object is not subscriptable"
     ]
    }
   ],
   "source": [
    "import cv2 as cv   #openCV is used for image detection\n",
    "import numpy as np\n",
    "import matplotlib.pyplot as plt\n",
    "import tensorflow as tf   #used to create neural network\n",
    "\n",
    "mnist = tf.keras.datasets.mnist\n",
    "(x_train, y_train),(x_test, y_test)= mnist.load_data()\n",
    "\n",
    "x_train = tf.keras.utils.normalize(x_train,axis=1)\n",
    "x_test = tf.keras.utils.normalize(x_test, axis = 1)\n",
    "\n",
    "model = tf.keras.models.Sequential()\n",
    "model.add(tf.keras.layers.Flatten(input_shape =(28,28)))\n",
    "model.add(tf.keras.layers.Dense(units= 128, activation=tf.nn.relu))\n",
    "model.add(tf.keras.layers.Dense(units= 128, activation=tf.nn.relu))\n",
    "model.add(tf.keras.layers.Dense(units= 10, activation=tf.nn.softmax))\n",
    "\n",
    "model.compile(optimizer='adam', loss = 'sparse_categorical_crossentropy',metrics = ['accuracy'])\n",
    "\n",
    "model.fit(x_train,y_train, epochs = 3)\n",
    "\n",
    "loss,accuracy = model.evaluate(x_test,y_test) \n",
    "print(accuracy)\n",
    "print(loss)\n",
    "\n",
    "model.save('digits.model')\n",
    "\n",
    "\n",
    "for x in range(0,10):\n",
    "    img = cv.imread(f'{x}.png')[:,:,0]\n",
    "    img=np.invert(np.array[img])\n",
    "    prediction = model.predict(img)\n",
    "    print(f'the result is {np.argmax(prediction)}')\n",
    "    plt.imshow(img[x], cmap=plt.cm.binary)\n",
    "    plt.show()\n"
   ]
  }
 ],
 "metadata": {
  "kernelspec": {
   "display_name": "Python 3",
   "language": "python",
   "name": "python3"
  },
  "language_info": {
   "codemirror_mode": {
    "name": "ipython",
    "version": 3
   },
   "file_extension": ".py",
   "mimetype": "text/x-python",
   "name": "python",
   "nbconvert_exporter": "python",
   "pygments_lexer": "ipython3",
   "version": "3.11.2"
  },
  "orig_nbformat": 4
 },
 "nbformat": 4,
 "nbformat_minor": 2
}
